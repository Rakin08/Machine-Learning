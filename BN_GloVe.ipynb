{
 "cells": [
  {
   "cell_type": "markdown",
   "metadata": {},
   "source": [
    "# Bengali GloVe"
   ]
  },
  {
   "cell_type": "markdown",
   "metadata": {},
   "source": [
    "## Import"
   ]
  },
  {
   "cell_type": "code",
   "execution_count": 1,
   "metadata": {},
   "outputs": [],
   "source": [
    "import numpy as np\n",
    "import scipy\n",
    "from scipy import spatial"
   ]
  },
  {
   "cell_type": "markdown",
   "metadata": {},
   "source": [
    "## BN_GloVe class definition"
   ]
  },
  {
   "cell_type": "code",
   "execution_count": 6,
   "metadata": {},
   "outputs": [],
   "source": [
    "class BN_Glove(object):\n",
    "  def word2vec(self, glove_path, test_word):\n",
    "      embeddings_dict = {}\n",
    "      with open(glove_path, 'r',encoding=\"utf8\") as f:\n",
    "          for line in f:\n",
    "              values = line.split()\n",
    "              word = values[0]\n",
    "              vector = np.asarray(values[1:], \"float32\")\n",
    "              embeddings_dict[word] = vector\n",
    "      result_vec = embeddings_dict[test_word]\n",
    "      return result_vec\n",
    "\n",
    "  def closest_word(self,glove_path, test_word, n=10):\n",
    "    def find_closest_embeddings(embedding):\n",
    "      return sorted(embeddings_dict.keys(), key=lambda word: spatial.distance.euclidean(embeddings_dict[word], embedding))\n",
    "    \n",
    "    \n",
    "    embeddings_dict = {}\n",
    "    with open(glove_path, 'r', encoding=\"utf8\") as f:\n",
    "        for line in f:\n",
    "            values = line.split()\n",
    "            word = values[0]\n",
    "            vector = np.asarray(values[1:], \"float32\")\n",
    "            embeddings_dict[word] = vector\n",
    "    result = find_closest_embeddings(embeddings_dict[test_word])[:n]\n",
    "    return result\n"
   ]
  },
  {
   "cell_type": "markdown",
   "metadata": {},
   "source": [
    "## Main output [similar words]"
   ]
  },
  {
   "cell_type": "code",
   "execution_count": 8,
   "metadata": {},
   "outputs": [
    {
     "name": "stdout",
     "output_type": "stream",
     "text": [
      "['বাংলা']\n"
     ]
    }
   ],
   "source": [
    "glove_path = \"bn_glove.39M.100d.txt\"\n",
    "word = \"বাংলা\"\n",
    "bng = BN_Glove()\n",
    "res = bng.closest_word(glove_path, word, n=1)\n",
    "print(res)\n",
    "# vec = bng.word2vec(glove_path, word)\n",
    "# print(vec)\n"
   ]
  }
 ],
 "metadata": {
  "kernelspec": {
   "display_name": "Python 3.8.6 64-bit",
   "language": "python",
   "name": "python3"
  },
  "language_info": {
   "codemirror_mode": {
    "name": "ipython",
    "version": 3
   },
   "file_extension": ".py",
   "mimetype": "text/x-python",
   "name": "python",
   "nbconvert_exporter": "python",
   "pygments_lexer": "ipython3",
   "version": "3.8.6"
  },
  "orig_nbformat": 4,
  "vscode": {
   "interpreter": {
    "hash": "6dd0880816ab0857770af66b50219bef5f3502757601dc2cb7f12f9bd5d0663e"
   }
  }
 },
 "nbformat": 4,
 "nbformat_minor": 2
}
